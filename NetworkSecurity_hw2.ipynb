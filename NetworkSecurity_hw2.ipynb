{
 "cells": [
  {
   "cell_type": "code",
   "execution_count": 1,
   "metadata": {
    "scrolled": true
   },
   "outputs": [
    {
     "name": "stdout",
     "output_type": "stream",
     "text": [
      "1 x 1\n",
      "5 x 29\n",
      "7 x 31\n",
      "11 x 23\n",
      "13 x 25\n",
      "17 x 17\n",
      "19 x 19\n",
      "23 x 11\n",
      "25 x 13\n",
      "29 x 5\n",
      "31 x 7\n",
      "35 x 35\n",
      "\n",
      "z36* :  12\n"
     ]
    }
   ],
   "source": [
    "cnt = 0\n",
    "for i in range (36) :\n",
    "    for j in range(36) :\n",
    "        if (i * j) % 36 == 1 :\n",
    "            cnt += 1\n",
    "            print(i, \"x\", j)\n",
    "            \n",
    "print()            \n",
    "print(\"z36* : \", cnt)"
   ]
  },
  {
   "cell_type": "code",
   "execution_count": 2,
   "metadata": {},
   "outputs": [
    {
     "name": "stdout",
     "output_type": "stream",
     "text": [
      "1 x 1\n",
      "3 x 9\n",
      "5 x 21\n",
      "7 x 15\n",
      "9 x 3\n",
      "11 x 19\n",
      "15 x 7\n",
      "17 x 23\n",
      "19 x 11\n",
      "21 x 5\n",
      "23 x 17\n",
      "25 x 25\n",
      "\n",
      "z26* :  12\n"
     ]
    }
   ],
   "source": [
    "cnt = 0;\n",
    "for i in range(26) :\n",
    "    for j in range(26) :\n",
    "        if (i * j) % 26 == 1:\n",
    "            cnt += 1\n",
    "            print(i, \"x\", j)\n",
    "print()            \n",
    "print(\"z26* : \", cnt)"
   ]
  },
  {
   "cell_type": "code",
   "execution_count": 3,
   "metadata": {},
   "outputs": [],
   "source": [
    "z26 = {}\n",
    "for i in range(26):\n",
    "    z26[chr(97 + i)] = i"
   ]
  },
  {
   "cell_type": "code",
   "execution_count": 15,
   "metadata": {},
   "outputs": [],
   "source": [
    "z26_list = []\n",
    "for i in range(26):\n",
    "    z26_list.append(chr(97+i))"
   ]
  },
  {
   "cell_type": "code",
   "execution_count": 16,
   "metadata": {},
   "outputs": [],
   "source": [
    "def addictive(plainText, _list, k):\n",
    "    plainText = list(plainText)\n",
    "    cipherText = \"\"\n",
    "    for i in range(len(plainText)):\n",
    "        ciphers = (_list.index(plainText[i]) + k) % 26\n",
    "        cipherText += _list[ciphers].upper()\n",
    "        \n",
    "    return cipherText"
   ]
  },
  {
   "cell_type": "code",
   "execution_count": 19,
   "metadata": {
    "scrolled": true
   },
   "outputs": [
    {
     "name": "stdout",
     "output_type": "stream",
     "text": [
      "NBCMCMUHYRYLWCMY\n"
     ]
    }
   ],
   "source": [
    "print(addictive(\"thisisanexercise\", z26_list, 20))"
   ]
  },
  {
   "cell_type": "code",
   "execution_count": 22,
   "metadata": {},
   "outputs": [],
   "source": [
    "def addictiveDec(text, _list, k):\n",
    "    cipherText = list(text);\n",
    "    plainText = \"\"\n",
    "    for i in range(len(cipherText)):\n",
    "        plains = (_list.index(cipherText[i].lower()) - k) % 26\n",
    "        plainText += _list[plains]\n",
    "        \n",
    "    return plainText"
   ]
  },
  {
   "cell_type": "code",
   "execution_count": 23,
   "metadata": {},
   "outputs": [
    {
     "name": "stdout",
     "output_type": "stream",
     "text": [
      "thisisanexercise\n"
     ]
    }
   ],
   "source": [
    "print(addictiveDec(\"NBCMCMUHYRYLWCMY\", z26_list, 20))"
   ]
  },
  {
   "cell_type": "code",
   "execution_count": 4,
   "metadata": {
    "scrolled": true
   },
   "outputs": [],
   "source": [
    "def addictiveCiphers(plainText, dic, k):\n",
    "    plainTextList = list(plainText)\n",
    "    cipherText = \"\";\n",
    "    for i in range(len(plainTextList)):\n",
    "        ciphers = (dic[plainTextList[i]] + k) % 26\n",
    "        for key, value in dic.items() :\n",
    "            if value == ciphers :\n",
    "                cipherText += key.upper()\n",
    "    \n",
    "    return cipherText"
   ]
  },
  {
   "cell_type": "code",
   "execution_count": 5,
   "metadata": {},
   "outputs": [
    {
     "name": "stdout",
     "output_type": "stream",
     "text": [
      "NBCMCMUHYRYLWCMY\n"
     ]
    }
   ],
   "source": [
    "print(addictiveCiphers(\"thisisanexercise\", z26, 20))"
   ]
  },
  {
   "cell_type": "code",
   "execution_count": 6,
   "metadata": {},
   "outputs": [],
   "source": [
    "def addictiveDecryption(cipherText, dic, k):\n",
    "    cipherTextList = list(cipherText)\n",
    "    plainText = \"\"\n",
    "    for i in range(len(cipherTextList)) :\n",
    "        plain = (dic[cipherTextList[i].lower()] - k) % 26\n",
    "        for key, value in dic.items() :\n",
    "            if value == plain :\n",
    "                plainText += key\n",
    "                \n",
    "    return plainText"
   ]
  },
  {
   "cell_type": "code",
   "execution_count": 7,
   "metadata": {},
   "outputs": [
    {
     "name": "stdout",
     "output_type": "stream",
     "text": [
      "thisisanexercise\n"
     ]
    }
   ],
   "source": [
    "print(addictiveDecryption(\"NBCMCMUHYRYLWCMY\", z26, 20))"
   ]
  },
  {
   "cell_type": "code",
   "execution_count": 8,
   "metadata": {},
   "outputs": [],
   "source": [
    "def multiplicationCiphers(plainText, dic, k):\n",
    "    plainTextList = list(plainText)\n",
    "    cipherText = \"\";\n",
    "    for i in range(len(plainTextList)):\n",
    "        ciphers = (dic[plainTextList[i]] * k) % 26\n",
    "        for key, value in dic.items() :\n",
    "            if value == ciphers :\n",
    "                cipherText += key.upper()\n",
    "    \n",
    "    return cipherText"
   ]
  },
  {
   "cell_type": "code",
   "execution_count": 9,
   "metadata": {},
   "outputs": [
    {
     "name": "stdout",
     "output_type": "stream",
     "text": [
      "ZBQKQKANIHIVEQKI\n"
     ]
    }
   ],
   "source": [
    "print(multiplicationCiphers(\"thisisanexercise\", z26, 15))"
   ]
  },
  {
   "cell_type": "code",
   "execution_count": 10,
   "metadata": {},
   "outputs": [],
   "source": [
    "def multiplicationDecryption(cipherText, dic, k):\n",
    "    cipherTextList = list(cipherText)\n",
    "    plainText = \"\"\n",
    "    for i in range(len(cipherTextList)) :\n",
    "        plain = (dic[cipherTextList[i].lower()] * k) % 26\n",
    "        for key, value in dic.items() :\n",
    "            if value == plain :\n",
    "                plainText += key\n",
    "                \n",
    "    return plainText"
   ]
  },
  {
   "cell_type": "code",
   "execution_count": 11,
   "metadata": {},
   "outputs": [
    {
     "name": "stdout",
     "output_type": "stream",
     "text": [
      "thisisanexercise\n"
     ]
    }
   ],
   "source": [
    "print(multiplicationDecryption(\"ZBQKQKANIHIVEQKI\", z26, 7))"
   ]
  },
  {
   "cell_type": "code",
   "execution_count": 12,
   "metadata": {},
   "outputs": [
    {
     "name": "stdout",
     "output_type": "stream",
     "text": [
      "1  :  mbizdyqbkzrikxncdqoqkxyqbkzrikbodgycsnocypkmysx\n",
      "2  :  lahycxpajyqhjwmbcpnpjwxpajyqhjancfxbrmnbxojlxrw\n",
      "3  :  kzgxbwozixpgivlabomoivwozixpgizmbewaqlmawnikwqv\n",
      "4  :  jyfwavnyhwofhukzanlnhuvnyhwofhyladvzpklzvmhjvpu\n",
      "5  :  ixevzumxgvnegtjyzmkmgtumxgvnegxkzcuyojkyulgiuot\n",
      "6  :  hwduytlwfumdfsixyljlfstlwfumdfwjybtxnijxtkfhtns\n",
      "7  :  gvctxskvetlcerhwxkikerskvetlcevixaswmhiwsjegsmr\n",
      "8  :  fubswrjudskbdqgvwjhjdqrjudskbduhwzrvlghvridfrlq\n",
      "9  :  etarvqitcrjacpfuvigicpqitcrjactgvyqukfguqhceqkp\n",
      "10  :  dszquphsbqizboetuhfhbophsbqizbsfuxptjeftpgbdpjo\n",
      "11  :  cryptographyandstgeganographyaretwosidesofacoin\n",
      "12  :  bqxosnfqzogxzmcrsfdfzmnfqzogxzqdsvnrhcdrnezbnhm\n",
      "13  :  apwnrmepynfwylbqreceylmepynfwypcrumqgbcqmdyamgl\n",
      "14  :  zovmqldoxmevxkapqdbdxkldoxmevxobqtlpfabplcxzlfk\n",
      "15  :  ynulpkcnwlduwjzopcacwjkcnwlduwnapskoezaokbwykej\n",
      "16  :  xmtkojbmvkctviynobzbvijbmvkctvmzorjndyznjavxjdi\n",
      "17  :  wlsjnialujbsuhxmnayauhialujbsulynqimcxymizuwich\n",
      "18  :  vkrimhzktiartgwlmzxztghzktiartkxmphlbwxlhytvhbg\n",
      "19  :  ujqhlgyjshzqsfvklywysfgyjshzqsjwlogkavwkgxsugaf\n",
      "20  :  tipgkfxirgypreujkxvxrefxirgyprivknfjzuvjfwrtfze\n",
      "21  :  shofjewhqfxoqdtijwuwqdewhqfxoqhujmeiytuievqseyd\n",
      "22  :  rgneidvgpewnpcshivtvpcdvgpewnpgtildhxsthduprdxc\n",
      "23  :  qfmdhcufodvmobrghusuobcufodvmofshkcgwrsgctoqcwb\n",
      "24  :  pelcgbtenculnaqfgtrtnabtenculnergjbfvqrfbsnpbva\n",
      "25  :  odkbfasdmbtkmzpefsqsmzasdmbtkmdqfiaeupqearmoauz\n"
     ]
    }
   ],
   "source": [
    "for i in range(1,26): #z26 (1~25) 전수조사공격\n",
    "    print(i, \" : \", addictiveDecryption(\"NCJAEZRCLASJLYODERPRLYZRCLASJLCPEHZDTOPDZQLNZTY\", z26, i))"
   ]
  },
  {
   "cell_type": "code",
   "execution_count": null,
   "metadata": {},
   "outputs": [],
   "source": []
  }
 ],
 "metadata": {
  "kernelspec": {
   "display_name": "Python 3",
   "language": "python",
   "name": "python3"
  },
  "language_info": {
   "codemirror_mode": {
    "name": "ipython",
    "version": 3
   },
   "file_extension": ".py",
   "mimetype": "text/x-python",
   "name": "python",
   "nbconvert_exporter": "python",
   "pygments_lexer": "ipython3",
   "version": "3.8.3"
  }
 },
 "nbformat": 4,
 "nbformat_minor": 4
}
